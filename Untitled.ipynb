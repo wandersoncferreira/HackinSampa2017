{
 "cells": [
  {
   "cell_type": "code",
   "execution_count": 2,
   "metadata": {},
   "outputs": [],
   "source": [
    "import requests"
   ]
  },
  {
   "cell_type": "code",
   "execution_count": 4,
   "metadata": {},
   "outputs": [],
   "source": [
    "resp = requests.get(\"https://www.receitaws.com.br/v1/cnpj/27865757000102\")"
   ]
  },
  {
   "cell_type": "code",
   "execution_count": 5,
   "metadata": {},
   "outputs": [
    {
     "data": {
      "text/plain": [
       "{'abertura': '31/01/1986',\n",
       " 'atividade_principal': [{'code': '60.21-7-00',\n",
       "   'text': 'Atividades de televisão aberta'}],\n",
       " 'atividades_secundarias': [{'code': '18.30-0-02',\n",
       "   'text': 'Reprodução de vídeo em qualquer suporte'},\n",
       "  {'code': '63.19-4-00',\n",
       "   'text': 'Portais, provedores de conteúdo e outros serviços de informação na internet'},\n",
       "  {'code': '73.12-2-00',\n",
       "   'text': 'Agenciamento de espaços para publicidade, exceto em veículos de comunicação'},\n",
       "  {'code': '60.22-5-01', 'text': 'Programadoras'}],\n",
       " 'bairro': 'JARDIM BOTANICO',\n",
       " 'capital_social': '6408935530.37',\n",
       " 'cep': '22.460-901',\n",
       " 'cnpj': '27.865.757/0001-02',\n",
       " 'complemento': '',\n",
       " 'data_situacao': '03/11/2005',\n",
       " 'data_situacao_especial': '',\n",
       " 'efr': '',\n",
       " 'email': '',\n",
       " 'extra': {},\n",
       " 'fantasia': 'GCP,TV GLOBO, REDE GLOBO, GLOBO.COM, SOM LIVRE',\n",
       " 'logradouro': 'R LOPES QUINTAS',\n",
       " 'motivo_situacao': '',\n",
       " 'municipio': 'RIO DE JANEIRO',\n",
       " 'natureza_juridica': '205-4 - Sociedade Anônima Fechada',\n",
       " 'nome': 'GLOBO COMUNICACAO E PARTICIPACOES S/A',\n",
       " 'numero': '303',\n",
       " 'qsa': [{'nome': 'CARLOS HENRIQUE SCHRODER', 'qual': '10-Diretor'},\n",
       "  {'nome': 'JORGE LUIZ DE BARROS NOBREGA', 'qual': '10-Diretor'},\n",
       "  {'nome': 'ROSSANA FONTENELE BERTO', 'qual': '10-Diretor'},\n",
       "  {'nome': 'ALI AHAMAD KAMEL ALI HARFOUCHE', 'qual': '10-Diretor'},\n",
       "  {'nome': 'WILLY HAAS FILHO', 'qual': '10-Diretor'},\n",
       "  {'nome': 'JUAREZ DE QUEIROZ CAMPOS JUNIOR', 'qual': '10-Diretor'},\n",
       "  {'nome': 'SERGIO LOURENCO MARQUES', 'qual': '10-Diretor'},\n",
       "  {'nome': 'MARCELO LUIS MENDES SOARES DA SILVA', 'qual': '10-Diretor'},\n",
       "  {'nome': 'ANTONIO CLAUDIO FERREIRA NETTO', 'qual': '10-Diretor'},\n",
       "  {'nome': 'CRISTIANE DELECRODE LOPES SUT RIBEIRO', 'qual': '10-Diretor'}],\n",
       " 'situacao': 'ATIVA',\n",
       " 'situacao_especial': '',\n",
       " 'status': 'OK',\n",
       " 'telefone': '(21) 2540-2623',\n",
       " 'tipo': 'MATRIZ',\n",
       " 'uf': 'RJ',\n",
       " 'ultima_atualizacao': '2017-05-22T19:32:11.293Z'}"
      ]
     },
     "execution_count": 5,
     "metadata": {},
     "output_type": "execute_result"
    }
   ],
   "source": [
    "resp.json()"
   ]
  },
  {
   "cell_type": "code",
   "execution_count": 7,
   "metadata": {},
   "outputs": [
    {
     "data": {
      "text/plain": [
       "{'response': {'data': '2017-05-21T00:00:00Z',\n",
       "  'id': '2017/05/21/900',\n",
       "  'orgao': 'SECRETARIA DA CÂMARA',\n",
       "  'retranca': 'fahaadm',\n",
       "  'secretaria': 'CÂMARA MUNICIPAL - GABINETE DO',\n",
       "  'texto': '((TITULO))SECRETARIA DA CÂMARA\\nPRESIDÊNCIA\\n((TEXTO))PORTARIA 2496/17\\nDESIGNANDO, nos termos da Portaria SF nº 106/17, publicada no DOC de 09/05/17, para compor o Grupo de Planejamento \\x97 GP responsável pela elaboração da Proposta Orçamentária para 2018 e do Plano Plurianual 2018-2021 da Câmara Municipal de São Paulo, os senhores MARCIA AKEMI ENDO, RF 11.188, como Coordenadora, REGINA EIKO KIMACHI, RF 11.052, como suplente da Coordenadora, EMERSON RILDO ARAÚJO DE CARVALHO, RF 11.148; JOÃO BEZERRA DE MENEZES, RF 10.858; OSWALDO CEZAR ANNUNZIATO, RF 11.271; VALDIR ALVES DOS SANTOS, RF 11.217; RAQUEL SETSUKO CHIDA KUYA, RF 11.314; ANA LÚCIA MARTINS DE CARVALHO, RF 51.974; MARCIA AKEMI ENDO, RF 11.188 endereço eletrônico cteo3@camara.sp.gov.br, ficando esta responsável pela inserção de dados no Sistema, BRUNO NUNES MEDEIRO, RF 11.177, como suplente para inserção de dados, e MILTON LEITE, Presidente da Câmara Municipal de São Paulo, responsável pela entrega eletrônica da proposta.\\n\\n((NG))SECRETARIA GERAL ADMINISTRATIVA((CL))\\nAVERBAÇÃO DE TEMPO DE SERVIÇO \\x96 ADICIONAIS E SEXTA-PARTE\\nJuvenal de Camargo Neto \\x96 RF 230.831 \\x96 Proc. 907/17\\nÀ vista das informações que constam dos autos, DEFIRO.\\n\\n((NG))SECRETARIA DE RECURSOS HUMANOS((CL))\\nLICENÇA MÉDICA DE CURTA DURAÇÃO\\nConcedida nos termos do Ato n° 859/04\\nRF\\tNome\\tDuração\\tA partir de\\n11373\\tEmerson Chioro Vieira\\t02 (dois) d.\\t15.05.17\\n',\n",
       "  'tipo_conteudo': 'CÂMARA MUNICIPAL'}}"
      ]
     },
     "execution_count": 7,
     "metadata": {},
     "output_type": "execute_result"
    }
   ],
   "source": [
    "resp = requests.get(\"http://devcolab.each.usp.br/do/2017/05/21/900.json\")\n",
    "resp.json()"
   ]
  },
  {
   "cell_type": "code",
   "execution_count": null,
   "metadata": {
    "collapsed": true
   },
   "outputs": [],
   "source": []
  },
  {
   "cell_type": "code",
   "execution_count": null,
   "metadata": {
    "collapsed": true
   },
   "outputs": [],
   "source": []
  },
  {
   "cell_type": "code",
   "execution_count": 26,
   "metadata": {},
   "outputs": [],
   "source": [
    "import requests\n",
    "from bs4 import BeautifulSoup\n",
    "import re"
   ]
  },
  {
   "cell_type": "code",
   "execution_count": 50,
   "metadata": {
    "scrolled": false
   },
   "outputs": [
    {
     "name": "stdout",
     "output_type": "stream",
     "text": [
      "Ja foram pegos 0 links\n",
      "Ja foram pegos 100 links\n",
      "Ja foram pegos 200 links\n",
      "Ja foram pegos 300 links\n",
      "Ja foram pegos 400 links\n",
      "Ja foram pegos 500 links\n",
      "Ja foram pegos 600 links\n",
      "Ja foram pegos 700 links\n",
      "Ja foram pegos 800 links\n",
      "Ja foram pegos 900 links\n",
      "Ja foram pegos 1000 links\n",
      "Ja foram pegos 1100 links\n",
      "Ja foram pegos 1200 links\n",
      "Ja foram pegos 1300 links\n",
      "Ja foram pegos 1400 links\n",
      "Ja foram pegos 1500 links\n",
      "Ja foram pegos 1600 links\n",
      "Ja foram pegos 1700 links\n",
      "Ja foram pegos 1800 links\n",
      "Ja foram pegos 1900 links\n"
     ]
    }
   ],
   "source": [
    "vurl_base = \"http://devcolab.each.usp.br/do/\"\n",
    "list_urls = []\n",
    "for ind, i in enumerate(range(1, 2000)):\n",
    "    url_educacao = \"http://devcolab.each.usp.br/do/?_=1496500204585&f%5Bsecretaria_facet%5D%5B%5D=EDUCA%C3%87%C3%83O&f%5Btipo_conteudo_facet%5D%5B%5D=LICITA%C3%87%C3%95ES&page={}\".format(i)\n",
    "    resp = requests.get(url_educacao)\n",
    "    \n",
    "    if (ind%100) == 0:\n",
    "        print(\"Ja foram pegos {} links\".format(ind))\n",
    "\n",
    "    if resp.status_code == 200:\n",
    "        soup = BeautifulSoup(resp.text, \"lxml\")\n",
    "        for a in soup.find_all('a', href=True):\n",
    "            regexp = re.match(\"(?P<year>[0-9]{4}\\/)\", a[\"href\"])\n",
    "            if regexp:\n",
    "                url_new = url_base + a[\"href\"] + \".json\"\n",
    "                list_urls.append(url_new)"
   ]
  },
  {
   "cell_type": "code",
   "execution_count": 53,
   "metadata": {},
   "outputs": [
    {
     "data": {
      "text/plain": [
       "19990"
      ]
     },
     "execution_count": 53,
     "metadata": {},
     "output_type": "execute_result"
    }
   ],
   "source": [
    "len(list_urls)"
   ]
  },
  {
   "cell_type": "code",
   "execution_count": null,
   "metadata": {},
   "outputs": [],
   "source": [
    "import json\n",
    "\n",
    "for ind, element in enumerate(list_urls):\n",
    "    resp = requests.get(element)\n",
    "    with open('/home/bartuka/HackinSampa2017/data/{}.txt'.format(ind), 'w') as outfile:\n",
    "        json.dump(resp.json(), outfile)"
   ]
  },
  {
   "cell_type": "code",
   "execution_count": null,
   "metadata": {
    "collapsed": true
   },
   "outputs": [],
   "source": []
  }
 ],
 "metadata": {
  "kernelspec": {
   "display_name": "Python 3",
   "language": "python",
   "name": "python3"
  },
  "language_info": {
   "codemirror_mode": {
    "name": "ipython",
    "version": 3
   },
   "file_extension": ".py",
   "mimetype": "text/x-python",
   "name": "python",
   "nbconvert_exporter": "python",
   "pygments_lexer": "ipython3",
   "version": "3.6.0"
  }
 },
 "nbformat": 4,
 "nbformat_minor": 2
}
