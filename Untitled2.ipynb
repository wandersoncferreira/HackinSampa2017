{
 "cells": [
  {
   "cell_type": "code",
   "execution_count": 50,
   "metadata": {
    "collapsed": true
   },
   "outputs": [],
   "source": [
    "import pandas as pd\n",
    "import requests\n",
    "from tqdm import tqdm\n",
    "from bs4 import BeautifulSoup\n",
    "import re\n",
    "import matplotlib.pyplot as plt\n",
    "\n",
    "%matplotlib inline"
   ]
  },
  {
   "cell_type": "code",
   "execution_count": 160,
   "metadata": {},
   "outputs": [
    {
     "name": "stderr",
     "output_type": "stream",
     "text": [
      "100%|██████████| 1499/1499 [09:33<00:00,  2.77it/s]\n"
     ]
    }
   ],
   "source": [
    "url_base = \"http://devcolab.each.usp.br/do/\"\n",
    "list_urls = []\n",
    "process_url_dict = {}\n",
    "list_urls = []\n",
    "\n",
    "for i in tqdm(range(1, 1500)):\n",
    "    url_educacao = \"http://devcolab.each.usp.br/do/?utf8=%E2%9C%93&_=1496553686077&f%5Bsecretaria_facet%5D%5B%5D=EDUCA%C3%87%C3%83O&f%5Btipo_conteudo_facet%5D%5B%5D=LICITA%C3%87%C3%95ES&q=preg%C3%A3o+homolog*&pages={}\".format(i)\n",
    "    resp = requests.get(url_educacao)\n",
    "\n",
    "    if resp.status_code == 200:\n",
    "        soup = BeautifulSoup(resp.text, \"lxml\")\n",
    "        for a in soup.find_all('a', href=True):\n",
    "            regexp = re.match(\"(?P<year>[0-9]{4}\\/)\", a[\"href\"])\n",
    "            if regexp:\n",
    "                url_new = url_base + a[\"href\"] + \".json\"\n",
    "                list_urls.append(url_new)"
   ]
  },
  {
   "cell_type": "code",
   "execution_count": null,
   "metadata": {
    "scrolled": true
   },
   "outputs": [
    {
     "name": "stderr",
     "output_type": "stream",
     "text": [
      " 85%|████████▍ | 12714/14990 [09:38<01:32, 24.51it/s] "
     ]
    }
   ],
   "source": [
    "list_empresas = []\n",
    "for link in tqdm(list_urls):\n",
    "    resp = requests.get(link)\n",
    "    if resp.status_code == 200:\n",
    "        texto = resp.json()[\"response\"][\"texto\"]\n",
    "        #rxp2 = re.findall(\"(à empresa(?P<empresa>.*[^,]))(CNPJ(?P<cnpj>[^,]+))(.*R\\$)(?P<valor>.[^,]+)\", texto)\n",
    "        #rxp2 = re.findall(\"(?P<cnpj>[0-9]{2}\\.[0-9]{3}\\.[0-9]{3}\\/[0-9]{4}[\\-¬][0-9]{2})\", texto)\n",
    "        rxp2 = re.findall(\"(empresa\\s)(?P<empresa>.*?(?=,|$))(?P<teste>.*)\", texto)\n",
    "        if len(rxp2) > 0:\n",
    "            list_empresas.append(rxp2[0][1])"
   ]
  },
  {
   "cell_type": "code",
   "execution_count": 159,
   "metadata": {
    "scrolled": true
   },
   "outputs": [
    {
     "data": {
      "text/plain": [
       "TECNOVIDEO INDÚSTRIA E COMÉRCIO DE ELETRÔNICOS LTDA. EPP                       10\n",
       "SÃO BRÁZ S/A INDÚSTRIA E COMÉRCIO                                              10\n",
       "VERAX COMÉRCIO DE PRODUTOS EDUCATIVOS LTDA. - EPP                              10\n",
       "((NG))POLY POSITION INDÚSTRIA E COMÉRCIO LTDA-EPP                              10\n",
       "EDITORA MODERNA LTDA                                                           10\n",
       "((NG))SERCOM INDÚSTRIA E COMÉRCIO DE APARELHOS MÉDICOS E HOSPITALARES LTDA.    10\n",
       "Name: 0, dtype: int64"
      ]
     },
     "execution_count": 159,
     "metadata": {},
     "output_type": "execute_result"
    }
   ],
   "source": [
    "df = pd.DataFrame(list_empresas)\n",
    "df[0].value_counts()"
   ]
  },
  {
   "cell_type": "code",
   "execution_count": 56,
   "metadata": {},
   "outputs": [],
   "source": [
    "#df.columns = [\"empresa\", \"cnpj\", \"valor\", \"data\"]\n",
    "#df.set_index(\"data\", inplace=True)\n",
    "df.index = pd.to_datetime(df.index)"
   ]
  },
  {
   "cell_type": "code",
   "execution_count": 60,
   "metadata": {},
   "outputs": [
    {
     "data": {
      "text/html": [
       "<div>\n",
       "<table border=\"1\" class=\"dataframe\">\n",
       "  <thead>\n",
       "    <tr style=\"text-align: right;\">\n",
       "      <th></th>\n",
       "      <th>empresa</th>\n",
       "      <th>cnpj</th>\n",
       "      <th>valor</th>\n",
       "    </tr>\n",
       "    <tr>\n",
       "      <th>data</th>\n",
       "      <th></th>\n",
       "      <th></th>\n",
       "      <th></th>\n",
       "    </tr>\n",
       "  </thead>\n",
       "  <tbody>\n",
       "    <tr>\n",
       "      <th>2017-03-19</th>\n",
       "      <td>ELEPAR ELEVADORES LTDA - EPP,</td>\n",
       "      <td>01.524.258/0001-50</td>\n",
       "      <td>792.120</td>\n",
       "    </tr>\n",
       "    <tr>\n",
       "      <th>2017-02-16</th>\n",
       "      <td>ELEPAR ELEVADORES LTDA - EPP,</td>\n",
       "      <td>01.524.258/0001-50</td>\n",
       "      <td>792.120</td>\n",
       "    </tr>\n",
       "    <tr>\n",
       "      <th>2017-01-29</th>\n",
       "      <td>ELEPAR ELEVADORES LTDA - EPP,</td>\n",
       "      <td>01.524.258/0001-50</td>\n",
       "      <td>792.120</td>\n",
       "    </tr>\n",
       "    <tr>\n",
       "      <th>2016-11-19</th>\n",
       "      <td>Juliana Penteado Prandini Batista - ME,</td>\n",
       "      <td>sob n° 18.124.494/0001-81</td>\n",
       "      <td>6.720</td>\n",
       "    </tr>\n",
       "    <tr>\n",
       "      <th>2016-06-23</th>\n",
       "      <td>JOSÉ ESTEVES LOPES FILHO EVENTOS -EPP,</td>\n",
       "      <td>sob n° 11.250.035/0001-03</td>\n",
       "      <td>5.000</td>\n",
       "    </tr>\n",
       "  </tbody>\n",
       "</table>\n",
       "</div>"
      ],
      "text/plain": [
       "                                            empresa  \\\n",
       "data                                                  \n",
       "2017-03-19            ELEPAR ELEVADORES LTDA - EPP,   \n",
       "2017-02-16            ELEPAR ELEVADORES LTDA - EPP,   \n",
       "2017-01-29            ELEPAR ELEVADORES LTDA - EPP,   \n",
       "2016-11-19  Juliana Penteado Prandini Batista - ME,   \n",
       "2016-06-23   JOSÉ ESTEVES LOPES FILHO EVENTOS -EPP,   \n",
       "\n",
       "                                 cnpj    valor  \n",
       "data                                            \n",
       "2017-03-19         01.524.258/0001-50  792.120  \n",
       "2017-02-16         01.524.258/0001-50  792.120  \n",
       "2017-01-29         01.524.258/0001-50  792.120  \n",
       "2016-11-19  sob n° 18.124.494/0001-81    6.720  \n",
       "2016-06-23  sob n° 11.250.035/0001-03    5.000  "
      ]
     },
     "execution_count": 60,
     "metadata": {},
     "output_type": "execute_result"
    }
   ],
   "source": [
    "df.head()"
   ]
  }
 ],
 "metadata": {
  "kernelspec": {
   "display_name": "Python 3",
   "language": "python",
   "name": "python3"
  },
  "language_info": {
   "codemirror_mode": {
    "name": "ipython",
    "version": 3
   },
   "file_extension": ".py",
   "mimetype": "text/x-python",
   "name": "python",
   "nbconvert_exporter": "python",
   "pygments_lexer": "ipython3",
   "version": "3.6.0"
  }
 },
 "nbformat": 4,
 "nbformat_minor": 2
}
